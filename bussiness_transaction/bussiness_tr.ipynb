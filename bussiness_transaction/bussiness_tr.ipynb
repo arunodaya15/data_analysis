{
 "cells": [
  {
   "cell_type": "code",
   "execution_count": 1,
   "id": "ba25cd62",
   "metadata": {},
   "outputs": [],
   "source": [
    "import pandas as pd\n",
    "import numpy as np"
   ]
  },
  {
   "cell_type": "code",
   "execution_count": null,
   "id": "55c3b001",
   "metadata": {},
   "outputs": [],
   "source": [
    "df = pd.read_csv('Sales_Transaction.csv')"
   ]
  },
  {
   "cell_type": "code",
   "execution_count": null,
   "id": "12620b20",
   "metadata": {},
   "outputs": [],
   "source": [
    "df"
   ]
  },
  {
   "cell_type": "code",
   "execution_count": null,
   "id": "af744bd4",
   "metadata": {},
   "outputs": [],
   "source": [
    "df[['day','month','year']] = df['Date'].str.split(\"/\",expand=True)"
   ]
  },
  {
   "cell_type": "code",
   "execution_count": null,
   "id": "2e42b708",
   "metadata": {},
   "outputs": [],
   "source": [
    "df"
   ]
  },
  {
   "cell_type": "code",
   "execution_count": null,
   "id": "986769f3",
   "metadata": {},
   "outputs": [],
   "source": [
    "df['year'] = df['year'].astype(int)"
   ]
  },
  {
   "cell_type": "code",
   "execution_count": null,
   "id": "94d37955",
   "metadata": {},
   "outputs": [],
   "source": [
    "df.info()"
   ]
  },
  {
   "cell_type": "code",
   "execution_count": null,
   "id": "bed37abf",
   "metadata": {},
   "outputs": [],
   "source": [
    "df[df['year']==2018]"
   ]
  },
  {
   "cell_type": "code",
   "execution_count": null,
   "id": "5acaaf6e",
   "metadata": {},
   "outputs": [],
   "source": [
    "df[df['Price']>=90]"
   ]
  },
  {
   "cell_type": "code",
   "execution_count": null,
   "id": "ef15255a",
   "metadata": {},
   "outputs": [],
   "source": [
    "df['ProductNo'].nunique()"
   ]
  },
  {
   "cell_type": "code",
   "execution_count": null,
   "id": "2f2b794d",
   "metadata": {},
   "outputs": [],
   "source": [
    "df.groupby('ProductNo')['Price'].count().sort_values('desc')"
   ]
  },
  {
   "cell_type": "code",
   "execution_count": null,
   "id": "302c3dde",
   "metadata": {},
   "outputs": [],
   "source": [
    "df['month'] = df['month'].astype(int)"
   ]
  },
  {
   "cell_type": "code",
   "execution_count": null,
   "id": "9841fe3f",
   "metadata": {
    "scrolled": true
   },
   "outputs": [],
   "source": [
    "df_1 = pd.DataFrame(df.groupby(['year','month'])['Price'].agg([np.sum]))"
   ]
  },
  {
   "cell_type": "code",
   "execution_count": null,
   "id": "097bfbf8",
   "metadata": {},
   "outputs": [],
   "source": [
    "df.info()"
   ]
  },
  {
   "cell_type": "code",
   "execution_count": null,
   "id": "0f760c86",
   "metadata": {},
   "outputs": [],
   "source": [
    "df_1.info()"
   ]
  },
  {
   "cell_type": "code",
   "execution_count": null,
   "id": "c840374d",
   "metadata": {},
   "outputs": [],
   "source": [
    "df"
   ]
  },
  {
   "cell_type": "code",
   "execution_count": null,
   "id": "d8fd8199",
   "metadata": {},
   "outputs": [],
   "source": [
    "df.groupby('month')['Quantity'].sum().sort_values()"
   ]
  },
  {
   "cell_type": "code",
   "execution_count": null,
   "id": "c8a243da",
   "metadata": {},
   "outputs": [],
   "source": [
    "df['month_yr'] = df['month'].astype(str)+\"-\"+df['year'].astype(str)"
   ]
  },
  {
   "cell_type": "code",
   "execution_count": null,
   "id": "fbb202b3",
   "metadata": {},
   "outputs": [],
   "source": [
    "df"
   ]
  },
  {
   "cell_type": "code",
   "execution_count": null,
   "id": "6cbb9258",
   "metadata": {
    "scrolled": true
   },
   "outputs": [],
   "source": [
    "df.groupby('month_yr')['Quantity'].sum().sort_index()"
   ]
  },
  {
   "cell_type": "code",
   "execution_count": null,
   "id": "08be9918",
   "metadata": {},
   "outputs": [],
   "source": [
    "df_3 = pd.DataFrame[['new_col'] == \"1\"]"
   ]
  },
  {
   "cell_type": "code",
   "execution_count": null,
   "id": "9ac376e3",
   "metadata": {},
   "outputs": [],
   "source": [
    "df_2['new_col'].astype(str) == \"1\""
   ]
  },
  {
   "cell_type": "code",
   "execution_count": null,
   "id": "3433813d",
   "metadata": {},
   "outputs": [],
   "source": [
    "import random"
   ]
  },
  {
   "cell_type": "code",
   "execution_count": null,
   "id": "e7c2f6be",
   "metadata": {},
   "outputs": [],
   "source": [
    "rand_int = random.randint(1,100)\n",
    "rand_int"
   ]
  },
  {
   "cell_type": "code",
   "execution_count": null,
   "id": "54085acb",
   "metadata": {},
   "outputs": [],
   "source": [
    "int_data = []\n",
    "while len(int_data) != 100:\n",
    "    int_data.append(random.randint(1,100))\n",
    "    \n",
    "int_data"
   ]
  },
  {
   "cell_type": "code",
   "execution_count": null,
   "id": "7e9db849",
   "metadata": {
    "scrolled": true
   },
   "outputs": [],
   "source": [
    "int_data"
   ]
  },
  {
   "cell_type": "code",
   "execution_count": null,
   "id": "0570aaf9",
   "metadata": {},
   "outputs": [],
   "source": [
    "data_fr = pd.DataFrame(['rand_integer'] == int_data)"
   ]
  },
  {
   "cell_type": "code",
   "execution_count": null,
   "id": "16029b3b",
   "metadata": {},
   "outputs": [],
   "source": [
    "data_fr[0]"
   ]
  },
  {
   "cell_type": "code",
   "execution_count": null,
   "id": "41dcd74f",
   "metadata": {},
   "outputs": [],
   "source": [
    "df_3 = pd.DataFrame()"
   ]
  },
  {
   "cell_type": "code",
   "execution_count": null,
   "id": "4adad232",
   "metadata": {},
   "outputs": [],
   "source": [
    "df_3['col1'] = int_data"
   ]
  },
  {
   "cell_type": "code",
   "execution_count": null,
   "id": "9f7dce2d",
   "metadata": {},
   "outputs": [],
   "source": [
    "df_3"
   ]
  },
  {
   "cell_type": "code",
   "execution_count": null,
   "id": "9ffff6ce",
   "metadata": {},
   "outputs": [],
   "source": [
    "df_3['Identifier'] = 3"
   ]
  },
  {
   "cell_type": "code",
   "execution_count": null,
   "id": "531ba69c",
   "metadata": {},
   "outputs": [],
   "source": [
    "df"
   ]
  },
  {
   "cell_type": "code",
   "execution_count": null,
   "id": "aee7e584",
   "metadata": {},
   "outputs": [],
   "source": [
    "df['Country'].unique()"
   ]
  },
  {
   "cell_type": "code",
   "execution_count": null,
   "id": "34efa06a",
   "metadata": {},
   "outputs": [],
   "source": [
    "df"
   ]
  },
  {
   "cell_type": "code",
   "execution_count": null,
   "id": "edc618f0",
   "metadata": {},
   "outputs": [],
   "source": []
  },
  {
   "cell_type": "code",
   "execution_count": null,
   "id": "ac047dac",
   "metadata": {},
   "outputs": [],
   "source": []
  }
 ],
 "metadata": {
  "kernelspec": {
   "display_name": "Python 3 (ipykernel)",
   "language": "python",
   "name": "python3"
  },
  "language_info": {
   "codemirror_mode": {
    "name": "ipython",
    "version": 3
   },
   "file_extension": ".py",
   "mimetype": "text/x-python",
   "name": "python",
   "nbconvert_exporter": "python",
   "pygments_lexer": "ipython3",
   "version": "3.11.4"
  }
 },
 "nbformat": 4,
 "nbformat_minor": 5
}
